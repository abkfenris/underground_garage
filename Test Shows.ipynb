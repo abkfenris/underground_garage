{
 "cells": [
  {
   "cell_type": "code",
   "execution_count": 1,
   "metadata": {
    "collapsed": true
   },
   "outputs": [],
   "source": [
    "from underground_garage import shows\n",
    "import time"
   ]
  },
  {
   "cell_type": "code",
   "execution_count": 2,
   "metadata": {
    "collapsed": false
   },
   "outputs": [
    {
     "name": "stdout",
     "output_type": "stream",
     "text": [
      "http://undergroundgarage.com/shows-599-590/show-593-that-love-disease-part-3-dissapointment.html\n",
      "list index out of range\n",
      "http://undergroundgarage.com/shows-599-590/show-594-that-love-disease-part-4-aint-too-proud-to-beg-desperation.html\n",
      "list index out of range\n",
      "http://undergroundgarage.com/shows-599-590/show-597-that-love-disease-part-7-i-m-alive-rebirth.html\n",
      "list index out of range\n",
      "http://undergroundgarage.com/shows-599-590/show-598-back-to-school.html\n",
      "list index out of range\n",
      "http://undergroundgarage.com/shows-489-480/for-clarence-2.html\n",
      "invalid literal for int() with base 10: 'Clarence'\n",
      "http://undergroundgarage.com/shows-409-400/show-404-new-years-09.html\n",
      "list index out of range\n",
      "http://undergroundgarage.com/shows-199-190/show-193-frank-alan-keith.html\n",
      "Failed to match token 'YYYY' when parsing 'Sunday, 13 December 200'\n",
      "http://undergroundgarage.com/Shows-109-100/show-106.html\n",
      "list index out of range\n"
     ]
    }
   ],
   "source": [
    "for url in shows.showsinarchive():\n",
    "    time.sleep(.5)\n",
    "    try:\n",
    "        shows.showinfo(url)\n",
    "    except Exception as e:\n",
    "        print url\n",
    "        print e"
   ]
  }
 ],
 "metadata": {
  "kernelspec": {
   "display_name": "Python 2",
   "language": "python",
   "name": "python2"
  },
  "language_info": {
   "codemirror_mode": {
    "name": "ipython",
    "version": 2
   },
   "file_extension": ".py",
   "mimetype": "text/x-python",
   "name": "python",
   "nbconvert_exporter": "python",
   "pygments_lexer": "ipython2",
   "version": "2.7.10"
  }
 },
 "nbformat": 4,
 "nbformat_minor": 0
}
